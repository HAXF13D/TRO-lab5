{
 "cells": [
  {
   "cell_type": "markdown",
   "id": "38de55d5",
   "metadata": {},
   "source": [
    "### Создать ноутбук, в котором выполнить решение вычислительной задачи (например, задачи из области физики, экономики, математики, статистики и т. д.) требующей построения круговой диаграммы."
   ]
  },
  {
   "cell_type": "markdown",
   "id": "26ba9951",
   "metadata": {},
   "source": [
    "Подключение не обходимых библиотек и открытие файла с данными:"
   ]
  },
  {
   "cell_type": "code",
   "execution_count": 1,
   "id": "59066949",
   "metadata": {},
   "outputs": [],
   "source": [
    "import pandas as pd\n",
    "import numpy as np\n",
    "import matplotlib.pyplot as plt\n",
    "df = pd.read_csv ('insurance.csv')"
   ]
  },
  {
   "cell_type": "markdown",
   "id": "bbf02f6a",
   "metadata": {},
   "source": [
    "Вывод начала датасета:"
   ]
  },
  {
   "cell_type": "code",
   "execution_count": 2,
   "id": "80cfe44e",
   "metadata": {},
   "outputs": [
    {
     "data": {
      "text/html": [
       "<div>\n",
       "<style scoped>\n",
       "    .dataframe tbody tr th:only-of-type {\n",
       "        vertical-align: middle;\n",
       "    }\n",
       "\n",
       "    .dataframe tbody tr th {\n",
       "        vertical-align: top;\n",
       "    }\n",
       "\n",
       "    .dataframe thead th {\n",
       "        text-align: right;\n",
       "    }\n",
       "</style>\n",
       "<table border=\"1\" class=\"dataframe\">\n",
       "  <thead>\n",
       "    <tr style=\"text-align: right;\">\n",
       "      <th></th>\n",
       "      <th>age</th>\n",
       "      <th>sex</th>\n",
       "      <th>bmi</th>\n",
       "      <th>children</th>\n",
       "      <th>smoker</th>\n",
       "      <th>region</th>\n",
       "      <th>charges</th>\n",
       "    </tr>\n",
       "  </thead>\n",
       "  <tbody>\n",
       "    <tr>\n",
       "      <th>0</th>\n",
       "      <td>19</td>\n",
       "      <td>female</td>\n",
       "      <td>27.900</td>\n",
       "      <td>0</td>\n",
       "      <td>yes</td>\n",
       "      <td>southwest</td>\n",
       "      <td>16884.92400</td>\n",
       "    </tr>\n",
       "    <tr>\n",
       "      <th>1</th>\n",
       "      <td>18</td>\n",
       "      <td>male</td>\n",
       "      <td>33.770</td>\n",
       "      <td>1</td>\n",
       "      <td>no</td>\n",
       "      <td>southeast</td>\n",
       "      <td>1725.55230</td>\n",
       "    </tr>\n",
       "    <tr>\n",
       "      <th>2</th>\n",
       "      <td>28</td>\n",
       "      <td>male</td>\n",
       "      <td>33.000</td>\n",
       "      <td>3</td>\n",
       "      <td>no</td>\n",
       "      <td>southeast</td>\n",
       "      <td>4449.46200</td>\n",
       "    </tr>\n",
       "    <tr>\n",
       "      <th>3</th>\n",
       "      <td>33</td>\n",
       "      <td>male</td>\n",
       "      <td>22.705</td>\n",
       "      <td>0</td>\n",
       "      <td>no</td>\n",
       "      <td>northwest</td>\n",
       "      <td>21984.47061</td>\n",
       "    </tr>\n",
       "    <tr>\n",
       "      <th>4</th>\n",
       "      <td>32</td>\n",
       "      <td>male</td>\n",
       "      <td>28.880</td>\n",
       "      <td>0</td>\n",
       "      <td>no</td>\n",
       "      <td>northwest</td>\n",
       "      <td>3866.85520</td>\n",
       "    </tr>\n",
       "  </tbody>\n",
       "</table>\n",
       "</div>"
      ],
      "text/plain": [
       "   age     sex     bmi  children smoker     region      charges\n",
       "0   19  female  27.900         0    yes  southwest  16884.92400\n",
       "1   18    male  33.770         1     no  southeast   1725.55230\n",
       "2   28    male  33.000         3     no  southeast   4449.46200\n",
       "3   33    male  22.705         0     no  northwest  21984.47061\n",
       "4   32    male  28.880         0     no  northwest   3866.85520"
      ]
     },
     "execution_count": 2,
     "metadata": {},
     "output_type": "execute_result"
    }
   ],
   "source": [
    "df.head()"
   ]
  },
  {
   "cell_type": "markdown",
   "id": "a072f17c",
   "metadata": {},
   "source": [
    "Выбираем данные по регионам, в котрых люди получили страховки.\n",
    "Строим диаграмму:"
   ]
  },
  {
   "cell_type": "code",
   "execution_count": 3,
   "id": "007b512b",
   "metadata": {
    "scrolled": false
   },
   "outputs": [
    {
     "data": {
      "text/plain": [
       "(-1.1207194321058473,\n",
       " 1.100986639624088,\n",
       " -1.1125533933009824,\n",
       " 1.1112460774223782)"
      ]
     },
     "execution_count": 3,
     "metadata": {},
     "output_type": "execute_result"
    },
    {
     "data": {
      "image/png": "[encoded data removed]",
      "text/plain": [
       "<Figure size 432x288 with 1 Axes>"
      ]
     },
     "metadata": {},
     "output_type": "display_data"
    }
   ],
   "source": [
    "test = df['region'].value_counts()\n",
    "keys = list(dict(test).keys())\n",
    "values = list(dict(test).values())\n",
    "\n",
    "fig, ax = plt.subplots()\n",
    "ax.pie(values, labels=keys, autopct='%1.1f%%')\n",
    "ax.axis(\"equal\")"
   ]
  },
  {
   "cell_type": "markdown",
   "id": "80398c32",
   "metadata": {},
   "source": [
    "Из диаграммы видно, что количество регионов в которых люди получили страховки примерно равно."
   ]
  },
  {
   "cell_type": "markdown",
   "id": "300412c6",
   "metadata": {},
   "source": [
    "Выбираем данные по полу, людей которые получили страховки.\n",
    "Строим диаграмму:"
   ]
  },
  {
   "cell_type": "code",
   "execution_count": 4,
   "id": "01985cdc",
   "metadata": {},
   "outputs": [
    {
     "data": {
      "text/plain": [
       "(-1.1040121656056667,\n",
       " 1.1001910555050318,\n",
       " -1.104486483140735,\n",
       " 1.1023569618236218)"
      ]
     },
     "execution_count": 4,
     "metadata": {},
     "output_type": "execute_result"
    },
    {
     "data": {
      "image/png": "[encoded data removed]",
      "text/plain": [
       "<Figure size 432x288 with 1 Axes>"
      ]
     },
     "metadata": {},
     "output_type": "display_data"
    }
   ],
   "source": [
    "test = df['sex'].value_counts()\n",
    "\n",
    "keys = list(dict(test).keys())\n",
    "values = list(dict(test).values())\n",
    "\n",
    "fig, ax = plt.subplots()\n",
    "ax.pie(values, labels=keys, autopct='%1.1f%%')\n",
    "ax.axis(\"equal\")"
   ]
  },
  {
   "cell_type": "markdown",
   "id": "4984d47f",
   "metadata": {},
   "source": [
    "Из диаграммы видно, что количество людей которые получили страховки примерно равно."
   ]
  },
  {
   "cell_type": "markdown",
   "id": "02b80ce6",
   "metadata": {},
   "source": [
    "Выбираем данные по курящим людям, которые получили страховки.\n",
    "Строим диаграмму:"
   ]
  },
  {
   "cell_type": "code",
   "execution_count": 5,
   "id": "688b1e85",
   "metadata": {
    "scrolled": true
   },
   "outputs": [
    {
     "data": {
      "text/plain": [
       "(-1.1018718496698334,\n",
       " 1.1000891356985636,\n",
       " -1.1027154146109623,\n",
       " 1.1011093550812814)"
      ]
     },
     "execution_count": 5,
     "metadata": {},
     "output_type": "execute_result"
    },
    {
     "data": {
      "image/png": "[encoded data removed]",
      "text/plain": [
       "<Figure size 432x288 with 1 Axes>"
      ]
     },
     "metadata": {},
     "output_type": "display_data"
    }
   ],
   "source": [
    "test = df['smoker'].value_counts()\n",
    "\n",
    "keys = list(dict(test).keys())\n",
    "values = list(dict(test).values())\n",
    "\n",
    "fig, ax = plt.subplots()\n",
    "ax.pie(values, labels=keys, autopct='%1.1f%%')\n",
    "ax.axis(\"equal\")"
   ]
  },
  {
   "cell_type": "markdown",
   "id": "32dfdfcf",
   "metadata": {},
   "source": [
    "Из диаграммы видно, что количество некурящих людей, которые получили страхову больше."
   ]
  }
 ],
 "metadata": {
  "kernelspec": {
   "display_name": "Python 3",
   "language": "python",
   "name": "python3"
  },
  "language_info": {
   "codemirror_mode": {
    "name": "ipython",
    "version": 3
   },
   "file_extension": ".py",
   "mimetype": "text/x-python",
   "name": "python",
   "nbconvert_exporter": "python",
   "pygments_lexer": "ipython3",
   "version": "3.8.8"
  }
 },
 "nbformat": 4,
 "nbformat_minor": 5
}
