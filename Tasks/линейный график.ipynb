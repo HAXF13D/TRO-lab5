{
 "cells": [
  {
   "cell_type": "markdown",
   "id": "65d9f11e",
   "metadata": {},
   "source": [
    "##### Создать ноутбук, в котором выполнить решение вычислительной задачи (например, задачи из области физики, экономики, математики, статистики и т. д.) требующей построения линейного графика."
   ]
  },
  {
   "cell_type": "markdown",
   "id": "198693f7",
   "metadata": {},
   "source": [
    "Была выбрана задача симуляции полета тела, из точки с координатами $(0,0)$, брошенная под углом $\\alpha$ к горизонту, с начальной скоростью $v_0$"
   ]
  },
  {
   "cell_type": "code",
   "execution_count": 1,
   "id": "f5911cfc",
   "metadata": {},
   "outputs": [],
   "source": [
    "import numpy as np\n",
    "import matplotlib.pyplot as plt\n",
    "%matplotlib inline"
   ]
  },
  {
   "cell_type": "markdown",
   "id": "30be9a50",
   "metadata": {},
   "source": [
    "Уравнение, траектории движения тела по оси $y$:\n",
    "\\begin{equation}\n",
    "y = x\\tan\\alpha - \\frac{gx^2}{2v_0^2\\cos^2\\alpha}\n",
    "\\end{equation}"
   ]
  },
  {
   "cell_type": "code",
   "execution_count": 2,
   "id": "d2573758",
   "metadata": {},
   "outputs": [],
   "source": [
    "def calc_y(x, v0, a, g):\n",
    "    return (x * np.tan(a)) - (g * x * x) / (2*(v0**2)*(np.cos(a)**2))"
   ]
  },
  {
   "cell_type": "code",
   "execution_count": 3,
   "id": "b6bffccc",
   "metadata": {
    "scrolled": true
   },
   "outputs": [
    {
     "name": "stdout",
     "output_type": "stream",
     "text": [
      "Угол от 0 до 90: 45\n",
      "Начальная скорость: 20\n"
     ]
    }
   ],
   "source": [
    "a = float(input(\"Угол от 0 до 90: \"))\n",
    "v0 = float(input(\"Начальная скорость: \"))"
   ]
  },
  {
   "cell_type": "markdown",
   "id": "44d736af",
   "metadata": {},
   "source": [
    "Устанавливаем значение ускорения свободного падения.\n",
    "\n",
    "Перводим значения $\\alpha$ из градусов в радианы.\n",
    "\n",
    "А также выситываем длину полета:\n",
    "\\begin{equation}\n",
    "l = \\frac{2v_0^2\\sin\\alpha\\cos\\alpha}{g}\n",
    "\\end{equation}\n",
    "И высоту:\n",
    "\\begin{equation}\n",
    "h = \\frac{v_0^2\\sin^2\\alpha}{2g}\n",
    "\\end{equation}"
   ]
  },
  {
   "cell_type": "code",
   "execution_count": 4,
   "id": "3c23908f",
   "metadata": {},
   "outputs": [],
   "source": [
    "g = 9.8\n",
    "a = np.radians(a)\n",
    "\n",
    "l = (2 * (v0**2) * np.sin(a) * np.cos(a)) / g\n",
    "h = (v0**2 * (np.sin(a)**2)) / (2 * g)"
   ]
  },
  {
   "cell_type": "code",
   "execution_count": 5,
   "id": "36207e6f",
   "metadata": {
    "scrolled": true
   },
   "outputs": [
    {
     "data": {
      "image/png": "[encoded data removed]",
      "text/plain": [
       "<Figure size 648x360 with 1 Axes>"
      ]
     },
     "metadata": {
      "needs_background": "light"
     },
     "output_type": "display_data"
    }
   ],
   "source": [
    "x = np.arange(0, np.ceil(l) + 1, 0.1)\n",
    "vfunc = np.vectorize(calc_y)\n",
    "y = vfunc(x, v0, a, g)\n",
    "\n",
    "x = x[y >= 0]\n",
    "y = y[y >= 0]\n",
    "\n",
    "fig, ax = plt.subplots(figsize=(9, 5))\n",
    "\n",
    "ax.set_xlim(0, l + 1)\n",
    "ax.set_ylim(0, h + 1)\n",
    "ax.set_xlabel(\"x\", fontsize=14)\n",
    "ax.set_ylabel(\"y\", fontsize=14)\n",
    "ax.set_title('Body trajectory', fontsize=15)\n",
    "ax.grid(which=\"major\", linewidth=1.2)\n",
    "ax.grid(which=\"minor\", linestyle=\"--\", color=\"gray\", linewidth=0.5)\n",
    "\n",
    "ax.plot(x, np.abs(y), c=\"r\", label=\"body\",)\n",
    "ax.legend()\n",
    "plt.show()"
   ]
  }
 ],
 "metadata": {
  "kernelspec": {
   "display_name": "Python 3",
   "language": "python",
   "name": "python3"
  },
  "language_info": {
   "codemirror_mode": {
    "name": "ipython",
    "version": 3
   },
   "file_extension": ".py",
   "mimetype": "text/x-python",
   "name": "python",
   "nbconvert_exporter": "python",
   "pygments_lexer": "ipython3",
   "version": "3.8.8"
  }
 },
 "nbformat": 4,
 "nbformat_minor": 5
}
