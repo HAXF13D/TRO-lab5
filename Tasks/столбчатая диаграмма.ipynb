{
 "cells": [
  {
   "cell_type": "markdown",
   "id": "b231ac7a",
   "metadata": {},
   "source": [
    "### Создать ноутбук, в котором выполнить решение вычислительной задачи (например, задачи из области физики, экономики, математики, статистики и т. д.) требующей построения круговой диаграммы, условие которой предварительно необходимо согласовать с преподавателем."
   ]
  },
  {
   "cell_type": "markdown",
   "id": "83827342",
   "metadata": {},
   "source": [
    "Была выбрана задача по анализу датасета страховок."
   ]
  },
  {
   "cell_type": "markdown",
   "id": "b5369aa7",
   "metadata": {},
   "source": [
    "Подключение не обходимых библиотек и открытие файла с данными:"
   ]
  },
  {
   "cell_type": "code",
   "execution_count": 1,
   "id": "13dafa1f",
   "metadata": {},
   "outputs": [],
   "source": [
    "import pandas as pd\n",
    "import numpy as np\n",
    "import matplotlib.pyplot as plt\n",
    "df = pd.read_csv ('insurance.csv')"
   ]
  },
  {
   "cell_type": "markdown",
   "id": "6b968e96",
   "metadata": {},
   "source": [
    "Вывод начала датасета:"
   ]
  },
  {
   "cell_type": "code",
   "execution_count": 2,
   "id": "3bf3cc03",
   "metadata": {},
   "outputs": [
    {
     "data": {
      "text/html": [
       "<div>\n",
       "<style scoped>\n",
       "    .dataframe tbody tr th:only-of-type {\n",
       "        vertical-align: middle;\n",
       "    }\n",
       "\n",
       "    .dataframe tbody tr th {\n",
       "        vertical-align: top;\n",
       "    }\n",
       "\n",
       "    .dataframe thead th {\n",
       "        text-align: right;\n",
       "    }\n",
       "</style>\n",
       "<table border=\"1\" class=\"dataframe\">\n",
       "  <thead>\n",
       "    <tr style=\"text-align: right;\">\n",
       "      <th></th>\n",
       "      <th>age</th>\n",
       "      <th>sex</th>\n",
       "      <th>bmi</th>\n",
       "      <th>children</th>\n",
       "      <th>smoker</th>\n",
       "      <th>region</th>\n",
       "      <th>charges</th>\n",
       "    </tr>\n",
       "  </thead>\n",
       "  <tbody>\n",
       "    <tr>\n",
       "      <th>0</th>\n",
       "      <td>19</td>\n",
       "      <td>female</td>\n",
       "      <td>27.900</td>\n",
       "      <td>0</td>\n",
       "      <td>yes</td>\n",
       "      <td>southwest</td>\n",
       "      <td>16884.92400</td>\n",
       "    </tr>\n",
       "    <tr>\n",
       "      <th>1</th>\n",
       "      <td>18</td>\n",
       "      <td>male</td>\n",
       "      <td>33.770</td>\n",
       "      <td>1</td>\n",
       "      <td>no</td>\n",
       "      <td>southeast</td>\n",
       "      <td>1725.55230</td>\n",
       "    </tr>\n",
       "    <tr>\n",
       "      <th>2</th>\n",
       "      <td>28</td>\n",
       "      <td>male</td>\n",
       "      <td>33.000</td>\n",
       "      <td>3</td>\n",
       "      <td>no</td>\n",
       "      <td>southeast</td>\n",
       "      <td>4449.46200</td>\n",
       "    </tr>\n",
       "    <tr>\n",
       "      <th>3</th>\n",
       "      <td>33</td>\n",
       "      <td>male</td>\n",
       "      <td>22.705</td>\n",
       "      <td>0</td>\n",
       "      <td>no</td>\n",
       "      <td>northwest</td>\n",
       "      <td>21984.47061</td>\n",
       "    </tr>\n",
       "    <tr>\n",
       "      <th>4</th>\n",
       "      <td>32</td>\n",
       "      <td>male</td>\n",
       "      <td>28.880</td>\n",
       "      <td>0</td>\n",
       "      <td>no</td>\n",
       "      <td>northwest</td>\n",
       "      <td>3866.85520</td>\n",
       "    </tr>\n",
       "  </tbody>\n",
       "</table>\n",
       "</div>"
      ],
      "text/plain": [
       "   age     sex     bmi  children smoker     region      charges\n",
       "0   19  female  27.900         0    yes  southwest  16884.92400\n",
       "1   18    male  33.770         1     no  southeast   1725.55230\n",
       "2   28    male  33.000         3     no  southeast   4449.46200\n",
       "3   33    male  22.705         0     no  northwest  21984.47061\n",
       "4   32    male  28.880         0     no  northwest   3866.85520"
      ]
     },
     "execution_count": 2,
     "metadata": {},
     "output_type": "execute_result"
    }
   ],
   "source": [
    "df.head()"
   ]
  },
  {
   "cell_type": "markdown",
   "id": "be0f50bd",
   "metadata": {},
   "source": [
    "Выбираем столбцы, в которых содержится информация о поле человека и том, курит ли он:"
   ]
  },
  {
   "cell_type": "code",
   "execution_count": 3,
   "id": "1111b0a6",
   "metadata": {
    "scrolled": true
   },
   "outputs": [
    {
     "data": {
      "text/html": [
       "<div>\n",
       "<style scoped>\n",
       "    .dataframe tbody tr th:only-of-type {\n",
       "        vertical-align: middle;\n",
       "    }\n",
       "\n",
       "    .dataframe tbody tr th {\n",
       "        vertical-align: top;\n",
       "    }\n",
       "\n",
       "    .dataframe thead th {\n",
       "        text-align: right;\n",
       "    }\n",
       "</style>\n",
       "<table border=\"1\" class=\"dataframe\">\n",
       "  <thead>\n",
       "    <tr style=\"text-align: right;\">\n",
       "      <th></th>\n",
       "      <th>sex</th>\n",
       "      <th>smoker</th>\n",
       "    </tr>\n",
       "  </thead>\n",
       "  <tbody>\n",
       "    <tr>\n",
       "      <th>count</th>\n",
       "      <td>1338</td>\n",
       "      <td>1338</td>\n",
       "    </tr>\n",
       "    <tr>\n",
       "      <th>unique</th>\n",
       "      <td>2</td>\n",
       "      <td>2</td>\n",
       "    </tr>\n",
       "    <tr>\n",
       "      <th>top</th>\n",
       "      <td>male</td>\n",
       "      <td>no</td>\n",
       "    </tr>\n",
       "    <tr>\n",
       "      <th>freq</th>\n",
       "      <td>676</td>\n",
       "      <td>1064</td>\n",
       "    </tr>\n",
       "  </tbody>\n",
       "</table>\n",
       "</div>"
      ],
      "text/plain": [
       "         sex smoker\n",
       "count   1338   1338\n",
       "unique     2      2\n",
       "top     male     no\n",
       "freq     676   1064"
      ]
     },
     "execution_count": 3,
     "metadata": {},
     "output_type": "execute_result"
    }
   ],
   "source": [
    "df = df[['sex', 'smoker']]\n",
    "df.describe()"
   ]
  },
  {
   "cell_type": "markdown",
   "id": "dc368956",
   "metadata": {},
   "source": [
    "Выбираем из данных курящих и некурящих мужчин и женщин:"
   ]
  },
  {
   "cell_type": "code",
   "execution_count": 4,
   "id": "432e2ffe",
   "metadata": {},
   "outputs": [
    {
     "name": "stdout",
     "output_type": "stream",
     "text": [
      "['male_yes', 'male_no', 'female_yes', 'female_no']\n",
      "[159, 517, 115, 547]\n"
     ]
    }
   ],
   "source": [
    "m_y = df.loc[(df.sex == 'male') & (df.smoker == 'yes')].value_counts()\n",
    "m_n = df.loc[(df.sex == 'male') & (df.smoker == 'no')].value_counts()\n",
    "f_y = df.loc[(df.sex == 'female') & (df.smoker == 'yes')].value_counts()\n",
    "f_n = df.loc[(df.sex == 'female') & (df.smoker == 'no')].value_counts()\n",
    "\n",
    "keys_m_y = list(dict(m_y).keys())\n",
    "values_m_y = list(dict(m_y).values())[0]\n",
    "\n",
    "keys_m_n = list(dict(m_n).keys())\n",
    "values_m_n = list(dict(m_n).values())[0]\n",
    "\n",
    "keys_f_y = list(dict(f_y).keys())\n",
    "values_f_y = list(dict(f_y).values())[0]\n",
    "\n",
    "keys_f_n = list(dict(f_n).keys())\n",
    "values_f_n = list(dict(f_n).values())[0]\n",
    "\n",
    "keys_m_y = str(keys_m_y[0][0]) + \"_\" + str(keys_m_y[0][1])\n",
    "keys_m_n = str(keys_m_n[0][0]) + \"_\" + str(keys_m_n[0][1])\n",
    "keys_f_y = str(keys_f_y[0][0]) + \"_\" + str(keys_f_y[0][1])\n",
    "keys_f_n = str(keys_f_n[0][0]) + \"_\" + str(keys_f_n[0][1])\n",
    "\n",
    "groups = [keys_m_y, keys_m_n, keys_f_y, keys_f_n]\n",
    "counts = [values_m_y, values_m_n, values_f_y, values_f_n]\n",
    "\n",
    "print(groups)\n",
    "print(counts)"
   ]
  },
  {
   "cell_type": "markdown",
   "id": "fdb1eb5b",
   "metadata": {},
   "source": [
    "Выводим столбчатые диаграммы:"
   ]
  },
  {
   "cell_type": "code",
   "execution_count": 5,
   "id": "ac1369d9",
   "metadata": {
    "scrolled": true
   },
   "outputs": [
    {
     "data": {
      "text/plain": [
       "<BarContainer object of 4 artists>"
      ]
     },
     "execution_count": 5,
     "metadata": {},
     "output_type": "execute_result"
    },
    {
     "data": {
      "image/png": "[encoded data removed]",
      "text/plain": [
       "<Figure size 432x288 with 1 Axes>"
      ]
     },
     "metadata": {
      "needs_background": "light"
     },
     "output_type": "display_data"
    }
   ],
   "source": [
    "plt.bar(groups, counts)"
   ]
  },
  {
   "cell_type": "markdown",
   "id": "49712a96",
   "metadata": {},
   "source": [
    "Выбираем только курящих мужчин и женщин и строим диаграммы:"
   ]
  },
  {
   "cell_type": "code",
   "execution_count": 6,
   "id": "a3ffa804",
   "metadata": {
    "scrolled": true
   },
   "outputs": [
    {
     "data": {
      "text/plain": [
       "<BarContainer object of 2 artists>"
      ]
     },
     "execution_count": 6,
     "metadata": {},
     "output_type": "execute_result"
    },
    {
     "data": {
      "image/png": "[encoded data removed]",
      "text/plain": [
       "<Figure size 432x288 with 1 Axes>"
      ]
     },
     "metadata": {
      "needs_background": "light"
     },
     "output_type": "display_data"
    }
   ],
   "source": [
    "smokers_groups = list(groups[0::2])\n",
    "smokers_counts = list(counts[0::2])\n",
    "plt.bar(smokers_groups, smokers_counts)"
   ]
  },
  {
   "cell_type": "markdown",
   "id": "9ae5fca2",
   "metadata": {},
   "source": [
    "Из диаграмм видно, что количество курящих мужчин больше"
   ]
  },
  {
   "cell_type": "markdown",
   "id": "9ea4fd22",
   "metadata": {},
   "source": [
    "Выбираем только некурящих мужчин и женщин и строим диаграммы:"
   ]
  },
  {
   "cell_type": "code",
   "execution_count": 7,
   "id": "389d772d",
   "metadata": {
    "scrolled": true
   },
   "outputs": [
    {
     "data": {
      "text/plain": [
       "<BarContainer object of 2 artists>"
      ]
     },
     "execution_count": 7,
     "metadata": {},
     "output_type": "execute_result"
    },
    {
     "data": {
      "image/png": "[encoded data removed]",
      "text/plain": [
       "<Figure size 432x288 with 1 Axes>"
      ]
     },
     "metadata": {
      "needs_background": "light"
     },
     "output_type": "display_data"
    }
   ],
   "source": [
    "no_smokers_groups = list(groups[1::2])\n",
    "no_smokers_counts = list(counts[2::2])\n",
    "plt.bar(no_smokers_groups, no_smokers_counts)"
   ]
  },
  {
   "cell_type": "markdown",
   "id": "2e714bd5",
   "metadata": {},
   "source": [
    "Из диаграмм видно, что количество некурящих мужчин и женщин одинаково"
   ]
  }
 ],
 "metadata": {
  "kernelspec": {
   "display_name": "Python 3",
   "language": "python",
   "name": "python3"
  },
  "language_info": {
   "codemirror_mode": {
    "name": "ipython",
    "version": 3
   },
   "file_extension": ".py",
   "mimetype": "text/x-python",
   "name": "python",
   "nbconvert_exporter": "python",
   "pygments_lexer": "ipython3",
   "version": "3.8.8"
  }
 },
 "nbformat": 4,
 "nbformat_minor": 5
}
